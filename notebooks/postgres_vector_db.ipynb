{
 "cells": [
  {
   "cell_type": "markdown",
   "metadata": {},
   "source": [
    "# PostgreSQL Vector Database with pgvector\n",
    "\n",
    "This notebook demonstrates how to use PostgreSQL with the pgvector extension for vector similarity search. PostgreSQL offers a unique advantage: combining vector search with traditional SQL capabilities.\n",
    "\n",
    "## Overview\n",
    "\n",
    "While FAISS excels at pure vector operations, PostgreSQL with pgvector provides:\n",
    "- ACID transactions for vector operations\n",
    "- SQL integration (JOINs, filters, aggregations)\n",
    "- Mature ecosystem (backups, monitoring, tooling)\n",
    "- Existing infrastructure leverage\n",
    "\n",
    "## Prerequisites\n",
    "\n",
    "Before running this notebook, ensure PostgreSQL with pgvector is running:\n",
    "\n",
    "```bash\n",
    "# Start PostgreSQL with pgvector\n",
    "task postgres-start\n",
    "\n",
    "# Or using docker-compose directly\n",
    "docker-compose up -d postgres-vector\n",
    "```"
   ]
  },
  {
   "cell_type": "markdown",
   "metadata": {},
   "source": [
    "## Setup and Imports"
   ]
  },
  {
   "cell_type": "code",
   "execution_count": 1,
   "metadata": {},
   "outputs": [
    {
     "name": "stdout",
     "output_type": "stream",
     "text": [
      "Libraries imported successfully!\n"
     ]
    }
   ],
   "source": [
    "# Import required libraries\n",
    "import os\n",
    "import psycopg2\n",
    "from psycopg2.extras import RealDictCursor\n",
    "import numpy as np\n",
    "from sentence_transformers import SentenceTransformer\n",
    "import pandas as pd\n",
    "import matplotlib.pyplot as plt\n",
    "import seaborn as sns\n",
    "import time\n",
    "from dotenv import load_dotenv\n",
    "import json\n",
    "\n",
    "# Load environment variables\n",
    "load_dotenv()\n",
    "\n",
    "# Set plotting style\n",
    "plt.style.use('seaborn-v0_8-darkgrid')\n",
    "sns.set_palette(\"husl\")\n",
    "\n",
    "print(\"Libraries imported successfully!\")"
   ]
  },
  {
   "cell_type": "markdown",
   "metadata": {},
   "source": [
    "## Connect to PostgreSQL"
   ]
  },
  {
   "cell_type": "code",
   "execution_count": 2,
   "metadata": {},
   "outputs": [
    {
     "name": "stdout",
     "output_type": "stream",
     "text": [
      "✅ Connected to PostgreSQL\n",
      "✅ pgvector extension registered\n"
     ]
    }
   ],
   "source": [
    "# Database connection parameters\n",
    "conn_params = {\n",
    "    'host': os.getenv('POSTGRES_HOST', 'localhost'),\n",
    "    'port': os.getenv('POSTGRES_PORT', '5433'),\n",
    "    'dbname': os.getenv('POSTGRES_DB', 'vector_demo'),\n",
    "    'user': os.getenv('POSTGRES_USER', 'postgres'),\n",
    "    'password': os.getenv('POSTGRES_PASSWORD', 'postgres')\n",
    "}\n",
    "\n",
    "# Connect to PostgreSQL\n",
    "try:\n",
    "    conn = psycopg2.connect(**conn_params)\n",
    "    cursor = conn.cursor(cursor_factory=RealDictCursor)\n",
    "    print(\"✅ Connected to PostgreSQL\")\n",
    "    \n",
    "    # Register pgvector extension\n",
    "    from pgvector.psycopg2 import register_vector\n",
    "    register_vector(conn)\n",
    "    print(\"✅ pgvector extension registered\")\n",
    "    \n",
    "except Exception as e:\n",
    "    print(f\"❌ Connection failed: {e}\")\n",
    "    print(\"\\nPlease ensure PostgreSQL is running:\")\n",
    "    print(\"  task postgres-start\")"
   ]
  },
  {
   "cell_type": "markdown",
   "metadata": {},
   "source": [
    "## Enable pgvector Extension"
   ]
  },
  {
   "cell_type": "code",
   "execution_count": 3,
   "metadata": {},
   "outputs": [
    {
     "name": "stdout",
     "output_type": "stream",
     "text": [
      "✅ pgvector extension enabled\n",
      "pgvector version: 0.8.0\n"
     ]
    }
   ],
   "source": [
    "# Enable pgvector extension\n",
    "cursor.execute(\"CREATE EXTENSION IF NOT EXISTS vector\")\n",
    "conn.commit()\n",
    "print(\"✅ pgvector extension enabled\")\n",
    "\n",
    "# Check version\n",
    "cursor.execute(\"SELECT extversion FROM pg_extension WHERE extname = 'vector'\")\n",
    "version = cursor.fetchone()\n",
    "print(f\"pgvector version: {version['extversion'] if version else 'Not found'}\")"
   ]
  },
  {
   "cell_type": "markdown",
   "metadata": {},
   "source": [
    "## Load Embedding Model"
   ]
  },
  {
   "cell_type": "code",
   "execution_count": 4,
   "metadata": {},
   "outputs": [
    {
     "name": "stdout",
     "output_type": "stream",
     "text": [
      "Loading embedding model...\n",
      "✅ Model loaded (dimension: 384)\n"
     ]
    }
   ],
   "source": [
    "# Load sentence transformer model\n",
    "print(\"Loading embedding model...\")\n",
    "model = SentenceTransformer('all-MiniLM-L6-v2')\n",
    "dimension = model.get_sentence_embedding_dimension()\n",
    "print(f\"✅ Model loaded (dimension: {dimension})\")"
   ]
  },
  {
   "cell_type": "markdown",
   "metadata": {},
   "source": [
    "## Create Vector-Enabled Table"
   ]
  },
  {
   "cell_type": "code",
   "execution_count": 5,
   "metadata": {},
   "outputs": [
    {
     "name": "stdout",
     "output_type": "stream",
     "text": [
      "✅ Table 'documents' created\n",
      "\n",
      "Table structure:\n",
      "  - id: integer\n",
      "  - embedding: USER-DEFINED\n",
      "  - metadata: jsonb\n",
      "  - created_at: timestamp without time zone\n",
      "  - content: text\n"
     ]
    }
   ],
   "source": [
    "# Drop existing table if exists\n",
    "cursor.execute(\"DROP TABLE IF EXISTS documents CASCADE\")\n",
    "\n",
    "# Create table with vector column\n",
    "create_table_sql = f\"\"\"\n",
    "CREATE TABLE documents (\n",
    "    id SERIAL PRIMARY KEY,\n",
    "    content TEXT NOT NULL,\n",
    "    embedding vector({dimension}),\n",
    "    metadata JSONB,\n",
    "    created_at TIMESTAMP DEFAULT CURRENT_TIMESTAMP\n",
    ")\n",
    "\"\"\"\n",
    "\n",
    "cursor.execute(create_table_sql)\n",
    "conn.commit()\n",
    "print(\"✅ Table 'documents' created\")\n",
    "\n",
    "# Show table structure\n",
    "cursor.execute(\"\"\"\n",
    "    SELECT column_name, data_type \n",
    "    FROM information_schema.columns \n",
    "    WHERE table_name = 'documents'\n",
    "\"\"\")\n",
    "columns = cursor.fetchall()\n",
    "print(\"\\nTable structure:\")\n",
    "for col in columns:\n",
    "    print(f\"  - {col['column_name']}: {col['data_type']}\")"
   ]
  },
  {
   "cell_type": "markdown",
   "metadata": {},
   "source": [
    "## Insert Sample Documents"
   ]
  },
  {
   "cell_type": "code",
   "execution_count": 6,
   "metadata": {},
   "outputs": [
    {
     "name": "stdout",
     "output_type": "stream",
     "text": [
      "Generating embeddings...\n"
     ]
    },
    {
     "data": {
      "application/vnd.jupyter.widget-view+json": {
       "model_id": "c2ece1cf86ac4321b69e4478c0fcf955",
       "version_major": 2,
       "version_minor": 0
      },
      "text/plain": [
       "Batches:   0%|          | 0/1 [00:00<?, ?it/s]"
      ]
     },
     "metadata": {},
     "output_type": "display_data"
    },
    {
     "name": "stdout",
     "output_type": "stream",
     "text": [
      "\n",
      "✅ Inserted 10 documents\n"
     ]
    }
   ],
   "source": [
    "# Sample documents\n",
    "documents = [\n",
    "    \"PostgreSQL is a powerful, open source relational database system.\",\n",
    "    \"Vector databases enable semantic search using embeddings.\",\n",
    "    \"pgvector adds vector similarity search to PostgreSQL.\",\n",
    "    \"Machine learning models generate embeddings for text data.\",\n",
    "    \"Semantic search understands meaning, not just keywords.\",\n",
    "    \"ACID transactions ensure data consistency in databases.\",\n",
    "    \"SQL queries can combine vector search with filters.\",\n",
    "    \"Embeddings capture semantic relationships between words.\",\n",
    "    \"PostgreSQL supports JSON data types natively.\",\n",
    "    \"Vector similarity search finds related documents efficiently.\"\n",
    "]\n",
    "\n",
    "# Generate embeddings\n",
    "print(\"Generating embeddings...\")\n",
    "embeddings = model.encode(documents, show_progress_bar=True)\n",
    "\n",
    "# Insert documents with embeddings\n",
    "insert_sql = \"\"\"\n",
    "INSERT INTO documents (content, embedding, metadata)\n",
    "VALUES (%s, %s, %s)\n",
    "\"\"\"\n",
    "\n",
    "for i, (doc, emb) in enumerate(zip(documents, embeddings)):\n",
    "    metadata = {\n",
    "        'length': len(doc),\n",
    "        'word_count': len(doc.split()),\n",
    "        'category': 'database' if 'database' in doc.lower() else 'ml'\n",
    "    }\n",
    "    cursor.execute(insert_sql, (doc, emb.tolist(), json.dumps(metadata)))\n",
    "\n",
    "conn.commit()\n",
    "print(f\"\\n✅ Inserted {len(documents)} documents\")"
   ]
  },
  {
   "cell_type": "markdown",
   "metadata": {},
   "source": [
    "## Basic Semantic Search"
   ]
  },
  {
   "cell_type": "code",
   "execution_count": 7,
   "metadata": {},
   "outputs": [
    {
     "name": "stdout",
     "output_type": "stream",
     "text": [
      "🔍 Query: 'How to search for similar text?'\n",
      "\n",
      "1. Vector similarity search finds related documents efficiently....\n",
      "   Similarity: 0.594\n",
      "   Category: ml\n",
      "\n",
      "2. Semantic search understands meaning, not just keywords....\n",
      "   Similarity: 0.373\n",
      "   Category: ml\n",
      "\n",
      "3. SQL queries can combine vector search with filters....\n",
      "   Similarity: 0.354\n",
      "   Category: ml\n",
      "\n",
      "4. Vector databases enable semantic search using embeddings....\n",
      "   Similarity: 0.329\n",
      "   Category: database\n",
      "\n",
      "5. pgvector adds vector similarity search to PostgreSQL....\n",
      "   Similarity: 0.320\n",
      "   Category: ml\n",
      "\n"
     ]
    }
   ],
   "source": [
    "# Function to perform semantic search\n",
    "def semantic_search(query, limit=5):\n",
    "    # Generate query embedding\n",
    "    query_embedding = model.encode(query)\n",
    "    \n",
    "    # Search using cosine similarity\n",
    "    search_sql = \"\"\"\n",
    "    SELECT \n",
    "        id,\n",
    "        content,\n",
    "        1 - (embedding <=> %s::vector) AS similarity,\n",
    "        metadata\n",
    "    FROM documents\n",
    "    ORDER BY embedding <=> %s::vector\n",
    "    LIMIT %s\n",
    "    \"\"\"\n",
    "    \n",
    "    cursor.execute(search_sql, (query_embedding.tolist(), query_embedding.tolist(), limit))\n",
    "    return cursor.fetchall()\n",
    "\n",
    "# Test semantic search\n",
    "query = \"How to search for similar text?\"\n",
    "print(f\"🔍 Query: '{query}'\\n\")\n",
    "\n",
    "results = semantic_search(query)\n",
    "for i, result in enumerate(results, 1):\n",
    "    print(f\"{i}. {result['content'][:70]}...\")\n",
    "    print(f\"   Similarity: {result['similarity']:.3f}\")\n",
    "    print(f\"   Category: {result['metadata']['category']}\\n\")"
   ]
  },
  {
   "cell_type": "markdown",
   "metadata": {},
   "source": "# Analyze query performance\nprint(\"🔧 Query Performance Analysis\\n\")\n\n# Explain query plan\nexplain_sql = \"\"\"\nEXPLAIN (ANALYZE, BUFFERS)\nSELECT content\nFROM documents\nORDER BY embedding <=> %s::vector\nLIMIT 5\n\"\"\"\n\nquery_emb = model.encode(\"test query\")\ncursor.execute(explain_sql, (query_emb.tolist(),))\n\nprint(\"Query Execution Plan:\")\nfor row in cursor.fetchall():\n    print(row['QUERY PLAN'])"
  },
  {
   "cell_type": "code",
   "execution_count": 8,
   "metadata": {},
   "outputs": [
    {
     "name": "stdout",
     "output_type": "stream",
     "text": [
      "Generating larger dataset...\n"
     ]
    },
    {
     "data": {
      "application/vnd.jupyter.widget-view+json": {
       "model_id": "b7ba34bac31046749a416c88bbaac712",
       "version_major": 2,
       "version_minor": 0
      },
      "text/plain": [
       "Batches:   0%|          | 0/32 [00:00<?, ?it/s]"
      ]
     },
     "metadata": {},
     "output_type": "display_data"
    },
    {
     "name": "stdout",
     "output_type": "stream",
     "text": [
      "\n",
      "Inserting documents...\n",
      "✅ Inserted 1000 documents\n"
     ]
    }
   ],
   "source": [
    "# Generate more test data\n",
    "print(\"Generating larger dataset...\")\n",
    "np.random.seed(42)\n",
    "\n",
    "# Create synthetic documents\n",
    "categories = ['tech', 'health', 'finance', 'education', 'travel']\n",
    "templates = {\n",
    "    'tech': ['software', 'hardware', 'programming', 'AI', 'data'],\n",
    "    'health': ['wellness', 'medicine', 'fitness', 'nutrition', 'mental'],\n",
    "    'finance': ['investment', 'banking', 'budget', 'savings', 'credit'],\n",
    "    'education': ['learning', 'teaching', 'courses', 'degree', 'skills'],\n",
    "    'travel': ['vacation', 'destination', 'flights', 'hotels', 'adventure']\n",
    "}\n",
    "\n",
    "large_docs = []\n",
    "for i in range(1000):\n",
    "    cat = np.random.choice(categories)\n",
    "    word = np.random.choice(templates[cat])\n",
    "    large_docs.append(f\"Document about {word} in {cat} category #{i}\")\n",
    "\n",
    "# Generate embeddings in batches\n",
    "large_embeddings = model.encode(large_docs, batch_size=32, show_progress_bar=True)\n",
    "\n",
    "# Insert into a new table for testing\n",
    "cursor.execute(\"DROP TABLE IF EXISTS documents_test CASCADE\")\n",
    "cursor.execute(f\"\"\"\n",
    "CREATE TABLE documents_test (\n",
    "    id SERIAL PRIMARY KEY,\n",
    "    content TEXT,\n",
    "    embedding vector({dimension})\n",
    ")\n",
    "\"\"\")\n",
    "\n",
    "# Bulk insert\n",
    "print(\"\\nInserting documents...\")\n",
    "for doc, emb in zip(large_docs, large_embeddings):\n",
    "    cursor.execute(\n",
    "        \"INSERT INTO documents_test (content, embedding) VALUES (%s, %s)\",\n",
    "        (doc, emb.tolist())\n",
    "    )\n",
    "conn.commit()\n",
    "print(f\"✅ Inserted {len(large_docs)} documents\")"
   ]
  },
  {
   "cell_type": "code",
   "execution_count": 9,
   "metadata": {},
   "outputs": [
    {
     "name": "stdout",
     "output_type": "stream",
     "text": [
      "\n",
      "Testing No Index...\n",
      "  Avg search time: 3.17ms\n",
      "\n",
      "Testing IVFFlat...\n",
      "  Index created in 0.023s\n",
      "  Avg search time: 1.12ms\n",
      "\n",
      "Testing HNSW...\n",
      "  Index created in 0.122s\n",
      "  Avg search time: 1.41ms\n"
     ]
    },
    {
     "data": {
      "text/html": [
       "<div>\n",
       "<style scoped>\n",
       "    .dataframe tbody tr th:only-of-type {\n",
       "        vertical-align: middle;\n",
       "    }\n",
       "\n",
       "    .dataframe tbody tr th {\n",
       "        vertical-align: top;\n",
       "    }\n",
       "\n",
       "    .dataframe thead th {\n",
       "        text-align: right;\n",
       "    }\n",
       "</style>\n",
       "<table border=\"1\" class=\"dataframe\">\n",
       "  <thead>\n",
       "    <tr style=\"text-align: right;\">\n",
       "      <th></th>\n",
       "      <th>Index Type</th>\n",
       "      <th>Create Time (s)</th>\n",
       "      <th>Avg Search (ms)</th>\n",
       "    </tr>\n",
       "  </thead>\n",
       "  <tbody>\n",
       "    <tr>\n",
       "      <th>0</th>\n",
       "      <td>No Index</td>\n",
       "      <td>0.000000</td>\n",
       "      <td>3.168662</td>\n",
       "    </tr>\n",
       "    <tr>\n",
       "      <th>1</th>\n",
       "      <td>IVFFlat</td>\n",
       "      <td>0.022707</td>\n",
       "      <td>1.122316</td>\n",
       "    </tr>\n",
       "    <tr>\n",
       "      <th>2</th>\n",
       "      <td>HNSW</td>\n",
       "      <td>0.121617</td>\n",
       "      <td>1.411359</td>\n",
       "    </tr>\n",
       "  </tbody>\n",
       "</table>\n",
       "</div>"
      ],
      "text/plain": [
       "  Index Type  Create Time (s)  Avg Search (ms)\n",
       "0   No Index         0.000000         3.168662\n",
       "1    IVFFlat         0.022707         1.122316\n",
       "2       HNSW         0.121617         1.411359"
      ]
     },
     "metadata": {},
     "output_type": "display_data"
    }
   ],
   "source": [
    "# Test different index types\n",
    "index_tests = [\n",
    "    {\"name\": \"No Index\", \"create_sql\": None},\n",
    "    {\n",
    "        \"name\": \"IVFFlat\", \n",
    "        \"create_sql\": \"CREATE INDEX idx_ivfflat ON documents_test USING ivfflat (embedding vector_cosine_ops) WITH (lists = 50)\"\n",
    "    },\n",
    "    {\n",
    "        \"name\": \"HNSW\", \n",
    "        \"create_sql\": \"CREATE INDEX idx_hnsw ON documents_test USING hnsw (embedding vector_cosine_ops) WITH (m = 16, ef_construction = 64)\"\n",
    "    }\n",
    "]\n",
    "\n",
    "results = []\n",
    "test_queries = [\"AI and machine learning\", \"financial planning\", \"health and wellness\"]\n",
    "\n",
    "for test in index_tests:\n",
    "    print(f\"\\nTesting {test['name']}...\")\n",
    "    \n",
    "    # Drop all indexes\n",
    "    cursor.execute(\"DROP INDEX IF EXISTS idx_ivfflat\")\n",
    "    cursor.execute(\"DROP INDEX IF EXISTS idx_hnsw\")\n",
    "    \n",
    "    # Create index if specified\n",
    "    if test['create_sql']:\n",
    "        start = time.time()\n",
    "        cursor.execute(test['create_sql'])\n",
    "        conn.commit()\n",
    "        create_time = time.time() - start\n",
    "        print(f\"  Index created in {create_time:.3f}s\")\n",
    "    else:\n",
    "        create_time = 0\n",
    "    \n",
    "    # Benchmark searches\n",
    "    search_times = []\n",
    "    for query in test_queries:\n",
    "        query_emb = model.encode(query)\n",
    "        \n",
    "        start = time.time()\n",
    "        cursor.execute(\"\"\"\n",
    "            SELECT content FROM documents_test\n",
    "            ORDER BY embedding <=> %s::vector\n",
    "            LIMIT 5\n",
    "        \"\"\", (query_emb.tolist(),))\n",
    "        _ = cursor.fetchall()\n",
    "        search_times.append(time.time() - start)\n",
    "    \n",
    "    avg_search = np.mean(search_times)\n",
    "    results.append({\n",
    "        'Index Type': test['name'],\n",
    "        'Create Time (s)': create_time,\n",
    "        'Avg Search (ms)': avg_search * 1000\n",
    "    })\n",
    "    print(f\"  Avg search time: {avg_search * 1000:.2f}ms\")\n",
    "\n",
    "# Display results\n",
    "results_df = pd.DataFrame(results)\n",
    "display(results_df)"
   ]
  },
  {
   "cell_type": "markdown",
   "metadata": {},
   "source": [
    "## Visualize Performance Comparison"
   ]
  },
  {
   "cell_type": "code",
   "execution_count": 10,
   "metadata": {},
   "outputs": [
    {
     "data": {
      "image/png": "[encoded data removed]",
      "text/plain": [
       "<Figure size 1200x500 with 2 Axes>"
      ]
     },
     "metadata": {},
     "output_type": "display_data"
    }
   ],
   "source": [
    "# Create performance visualization\n",
    "fig, (ax1, ax2) = plt.subplots(1, 2, figsize=(12, 5))\n",
    "\n",
    "# Index creation time\n",
    "ax1.bar(results_df['Index Type'], results_df['Create Time (s)'], color=['gray', 'orange', 'blue'])\n",
    "ax1.set_title('Index Creation Time', fontsize=14, fontweight='bold')\n",
    "ax1.set_ylabel('Time (seconds)')\n",
    "ax1.set_xlabel('Index Type')\n",
    "\n",
    "# Search performance\n",
    "ax2.bar(results_df['Index Type'], results_df['Avg Search (ms)'], color=['gray', 'orange', 'blue'])\n",
    "ax2.set_title('Average Search Time', fontsize=14, fontweight='bold')\n",
    "ax2.set_ylabel('Time (milliseconds)')\n",
    "ax2.set_xlabel('Index Type')\n",
    "\n",
    "plt.tight_layout()\n",
    "plt.show()"
   ]
  },
  {
   "cell_type": "markdown",
   "metadata": {},
   "source": [
    "## Hybrid Search: Combining Vector and SQL"
   ]
  },
  {
   "cell_type": "code",
   "execution_count": 11,
   "metadata": {},
   "outputs": [
    {
     "name": "stdout",
     "output_type": "stream",
     "text": [
      "🔍 Hybrid Search Example\n",
      "\n",
      "Query: 'database systems' (filtered by category='database')\n",
      "\n",
      "1. PostgreSQL is a powerful, open source relational database sy...\n",
      "   Similarity: 0.658\n",
      "   Words: 9\n",
      "\n",
      "2. ACID transactions ensure data consistency in databases....\n",
      "   Similarity: 0.549\n",
      "   Words: 7\n",
      "\n",
      "3. Vector databases enable semantic search using embeddings....\n",
      "   Similarity: 0.356\n",
      "   Words: 7\n",
      "\n"
     ]
    }
   ],
   "source": [
    "# Demonstrate hybrid search capabilities\n",
    "print(\"🔍 Hybrid Search Example\\n\")\n",
    "\n",
    "# Query 1: Vector search with metadata filter\n",
    "query = \"database systems\"\n",
    "query_emb = model.encode(query)\n",
    "\n",
    "hybrid_sql = \"\"\"\n",
    "SELECT \n",
    "    content,\n",
    "    1 - (embedding <=> %s::vector) AS similarity,\n",
    "    metadata->>'category' AS category,\n",
    "    metadata->>'word_count' AS word_count\n",
    "FROM documents\n",
    "WHERE metadata->>'category' = 'database'\n",
    "ORDER BY embedding <=> %s::vector\n",
    "LIMIT 3\n",
    "\"\"\"\n",
    "\n",
    "cursor.execute(hybrid_sql, (query_emb.tolist(), query_emb.tolist()))\n",
    "results = cursor.fetchall()\n",
    "\n",
    "print(f\"Query: '{query}' (filtered by category='database')\\n\")\n",
    "for i, result in enumerate(results, 1):\n",
    "    print(f\"{i}. {result['content'][:60]}...\")\n",
    "    print(f\"   Similarity: {result['similarity']:.3f}\")\n",
    "    print(f\"   Words: {result['word_count']}\\n\")"
   ]
  },
  {
   "cell_type": "code",
   "execution_count": 12,
   "metadata": {},
   "outputs": [
    {
     "name": "stdout",
     "output_type": "stream",
     "text": [
      "\n",
      "📊 Aggregated Analysis\n",
      "\n",
      "Category analysis for query: 'machine learning and AI'\n",
      "\n",
      "Category: database\n",
      "  Documents: 3\n",
      "  Avg Similarity: 0.189\n",
      "  Max Similarity: 0.268\n",
      "\n",
      "Category: ml\n",
      "  Documents: 7\n",
      "  Avg Similarity: 0.181\n",
      "  Max Similarity: 0.397\n",
      "\n"
     ]
    }
   ],
   "source": [
    "# Query 2: Combine with aggregation\n",
    "print(\"\\n📊 Aggregated Analysis\\n\")\n",
    "\n",
    "agg_sql = \"\"\"\n",
    "WITH similarity_scores AS (\n",
    "    SELECT \n",
    "        metadata->>'category' AS category,\n",
    "        1 - (embedding <=> %s::vector) AS similarity\n",
    "    FROM documents\n",
    ")\n",
    "SELECT \n",
    "    category,\n",
    "    COUNT(*) as doc_count,\n",
    "    AVG(similarity) as avg_similarity,\n",
    "    MAX(similarity) as max_similarity\n",
    "FROM similarity_scores\n",
    "GROUP BY category\n",
    "ORDER BY avg_similarity DESC\n",
    "\"\"\"\n",
    "\n",
    "query = \"machine learning and AI\"\n",
    "query_emb = model.encode(query)\n",
    "\n",
    "cursor.execute(agg_sql, (query_emb.tolist(),))\n",
    "results = cursor.fetchall()\n",
    "\n",
    "print(f\"Category analysis for query: '{query}'\\n\")\n",
    "for result in results:\n",
    "    print(f\"Category: {result['category']}\")\n",
    "    print(f\"  Documents: {result['doc_count']}\")\n",
    "    print(f\"  Avg Similarity: {result['avg_similarity']:.3f}\")\n",
    "    print(f\"  Max Similarity: {result['max_similarity']:.3f}\\n\")"
   ]
  },
  {
   "cell_type": "markdown",
   "metadata": {},
   "source": [
    "## Advanced Features\n",
    "\n",
    "### 1. Similarity Threshold Search"
   ]
  },
  {
   "cell_type": "code",
   "execution_count": 13,
   "metadata": {},
   "outputs": [
    {
     "name": "stdout",
     "output_type": "stream",
     "text": [
      "🎯 Documents with similarity > 0.7 for 'vector similarity search':\n",
      "\n",
      "• Vector similarity search finds related documents efficiently.\n",
      "  Similarity: 0.794\n",
      "\n"
     ]
    }
   ],
   "source": [
    "# Find documents above similarity threshold\n",
    "query = \"vector similarity search\"\n",
    "query_emb = model.encode(query)\n",
    "threshold = 0.7\n",
    "\n",
    "threshold_sql = \"\"\"\n",
    "SELECT \n",
    "    content,\n",
    "    1 - (embedding <=> %s::vector) AS similarity\n",
    "FROM documents\n",
    "WHERE 1 - (embedding <=> %s::vector) > %s\n",
    "ORDER BY similarity DESC\n",
    "\"\"\"\n",
    "\n",
    "cursor.execute(threshold_sql, (query_emb.tolist(), query_emb.tolist(), threshold))\n",
    "results = cursor.fetchall()\n",
    "\n",
    "print(f\"🎯 Documents with similarity > {threshold} for '{query}':\\n\")\n",
    "for result in results:\n",
    "    print(f\"• {result['content']}\")\n",
    "    print(f\"  Similarity: {result['similarity']:.3f}\\n\")"
   ]
  },
  {
   "cell_type": "markdown",
   "metadata": {},
   "source": [
    "### 2. Distance Metrics Comparison"
   ]
  },
  {
   "cell_type": "code",
   "execution_count": 14,
   "metadata": {},
   "outputs": [
    {
     "name": "stdout",
     "output_type": "stream",
     "text": [
      "📏 Distance Metrics for 'PostgreSQL database':\n",
      "\n",
      "1. PostgreSQL is a powerful, open source relational d...\n",
      "   Cosine Distance: 0.2959\n",
      "   L2 Distance: 0.7692\n",
      "   Inner Product: 0.7041\n",
      "\n",
      "2. PostgreSQL supports JSON data types natively....\n",
      "   Cosine Distance: 0.4880\n",
      "   L2 Distance: 0.9879\n",
      "   Inner Product: 0.5120\n",
      "\n",
      "3. pgvector adds vector similarity search to PostgreS...\n",
      "   Cosine Distance: 0.6039\n",
      "   L2 Distance: 1.0990\n",
      "   Inner Product: 0.3961\n",
      "\n"
     ]
    }
   ],
   "source": [
    "# Compare different distance metrics\n",
    "query = \"PostgreSQL database\"\n",
    "query_emb = model.encode(query)\n",
    "\n",
    "metrics_sql = \"\"\"\n",
    "SELECT \n",
    "    content,\n",
    "    embedding <=> %s::vector AS cosine_distance,\n",
    "    embedding <-> %s::vector AS l2_distance,\n",
    "    (embedding <#> %s::vector) * -1 AS inner_product\n",
    "FROM documents\n",
    "ORDER BY embedding <=> %s::vector\n",
    "LIMIT 3\n",
    "\"\"\"\n",
    "\n",
    "cursor.execute(\n",
    "    metrics_sql, \n",
    "    (query_emb.tolist(), query_emb.tolist(), query_emb.tolist(), query_emb.tolist())\n",
    ")\n",
    "results = cursor.fetchall()\n",
    "\n",
    "print(f\"📏 Distance Metrics for '{query}':\\n\")\n",
    "for i, result in enumerate(results, 1):\n",
    "    print(f\"{i}. {result['content'][:50]}...\")\n",
    "    print(f\"   Cosine Distance: {result['cosine_distance']:.4f}\")\n",
    "    print(f\"   L2 Distance: {result['l2_distance']:.4f}\")\n",
    "    print(f\"   Inner Product: {result['inner_product']:.4f}\\n\")"
   ]
  },
  {
   "cell_type": "markdown",
   "metadata": {},
   "source": [
    "## Performance Tips"
   ]
  },
  {
   "cell_type": "code",
   "execution_count": null,
   "metadata": {},
   "outputs": [],
   "source": "# Analyze query performance\nprint(\"🔧 Query Performance Analysis\\n\")\n\n# Note: \\timing is a psql command and cannot be used in psycopg2\n# Instead, we'll use EXPLAIN ANALYZE to see performance details\n\n# Explain query plan\nexplain_sql = \"\"\"\nEXPLAIN (ANALYZE, BUFFERS)\nSELECT content\nFROM documents\nORDER BY embedding <=> %s::vector\nLIMIT 5\n\"\"\"\n\nquery_emb = model.encode(\"test query\")\ncursor.execute(explain_sql, (query_emb.tolist(),))\n\nprint(\"Query Execution Plan:\")\nfor row in cursor.fetchall():\n    print(row['QUERY PLAN'])"
  },
  {
   "cell_type": "markdown",
   "metadata": {},
   "source": [
    "## RAG Integration Example"
   ]
  },
  {
   "cell_type": "code",
   "execution_count": null,
   "metadata": {},
   "outputs": [],
   "source": [
    "def rag_search(question, context_limit=3):\n",
    "    \"\"\"\n",
    "    Retrieval-Augmented Generation using pgvector\n",
    "    \"\"\"\n",
    "    # Retrieve relevant documents\n",
    "    query_emb = model.encode(question)\n",
    "    \n",
    "    rag_sql = \"\"\"\n",
    "    SELECT \n",
    "        content,\n",
    "        1 - (embedding <=> %s::vector) AS similarity\n",
    "    FROM documents\n",
    "    ORDER BY embedding <=> %s::vector\n",
    "    LIMIT %s\n",
    "    \"\"\"\n",
    "    \n",
    "    cursor.execute(rag_sql, (query_emb.tolist(), query_emb.tolist(), context_limit))\n",
    "    results = cursor.fetchall()\n",
    "    \n",
    "    # Build context\n",
    "    context_parts = []\n",
    "    for i, result in enumerate(results, 1):\n",
    "        context_parts.append(f\"{i}. {result['content']} (Relevance: {result['similarity']:.2%})\")\n",
    "    \n",
    "    context = \"\\n\".join(context_parts)\n",
    "    \n",
    "    # Format for LLM\n",
    "    prompt = f\"\"\"\n",
    "Based on the following context, answer the question.\n",
    "\n",
    "Context:\n",
    "{context}\n",
    "\n",
    "Question: {question}\n",
    "\n",
    "Answer: [This would be sent to an LLM for generation]\n",
    "\"\"\"\n",
    "    \n",
    "    return prompt, results\n",
    "\n",
    "# Test RAG search\n",
    "question = \"How does pgvector help with semantic search?\"\n",
    "prompt, docs = rag_search(question)\n",
    "\n",
    "print(\"🤖 RAG Example\\n\")\n",
    "print(f\"Question: {question}\\n\")\n",
    "print(\"Retrieved Documents:\")\n",
    "for doc in docs:\n",
    "    print(f\"- {doc['content'][:80]}...\")\n",
    "    print(f\"  Relevance: {doc['similarity']:.2%}\\n\")\n",
    "\n",
    "print(\"\\nGenerated Prompt (truncated):\")\n",
    "print(prompt[:500] + \"...\")"
   ]
  },
  {
   "cell_type": "markdown",
   "metadata": {},
   "source": [
    "## Cleanup"
   ]
  },
  {
   "cell_type": "code",
   "execution_count": null,
   "metadata": {},
   "outputs": [],
   "source": [
    "# Close database connection\n",
    "cursor.close()\n",
    "conn.close()\n",
    "print(\"✅ Database connection closed\")\n",
    "\n",
    "print(\"\\n📚 Summary:\")\n",
    "print(\"- pgvector adds vector operations to PostgreSQL\")\n",
    "print(\"- Supports multiple index types (IVFFlat, HNSW)\")\n",
    "print(\"- Enables hybrid queries combining vectors and SQL\")\n",
    "print(\"- Perfect for RAG and enterprise search applications\")\n",
    "print(\"\\nTo stop PostgreSQL: task postgres-stop\")"
   ]
  },
  {
   "cell_type": "markdown",
   "metadata": {},
   "source": [
    "## Conclusion\n",
    "\n",
    "PostgreSQL with pgvector provides a powerful combination:\n",
    "\n",
    "1. **ACID Compliance**: Full transactional support for vector operations\n",
    "2. **SQL Integration**: Combine semantic search with filters, joins, and aggregations\n",
    "3. **Mature Ecosystem**: Leverage existing PostgreSQL tools and infrastructure\n",
    "4. **Flexibility**: Choose between different index types based on your needs\n",
    "\n",
    "### When to Use pgvector vs FAISS:\n",
    "\n",
    "**Use pgvector when:**\n",
    "- You need ACID transactions\n",
    "- You want to combine vector search with SQL queries\n",
    "- You have existing PostgreSQL infrastructure\n",
    "- You need full CRUD operations on vectors\n",
    "\n",
    "**Use FAISS when:**\n",
    "- You need maximum search performance\n",
    "- You're working with billions of vectors\n",
    "- You don't need transactional guarantees\n",
    "- You want more index options and GPU support\n",
    "\n",
    "### Next Steps:\n",
    "\n",
    "1. Experiment with different index parameters\n",
    "2. Try larger datasets to see performance differences\n",
    "3. Implement a full RAG system with an LLM\n",
    "4. Explore partitioning for very large tables\n",
    "5. Set up monitoring and query optimization\n",
    "\n",
    "For more information, see the [pgvector documentation](https://github.com/pgvector/pgvector)."
   ]
  }
 ],
 "metadata": {
  "kernelspec": {
   "display_name": "Python 3 (ipykernel)",
   "language": "python",
   "name": "python3"
  },
  "language_info": {
   "codemirror_mode": {
    "name": "ipython",
    "version": 3
   },
   "file_extension": ".py",
   "mimetype": "text/x-python",
   "name": "python",
   "nbconvert_exporter": "python",
   "pygments_lexer": "ipython3",
   "version": "3.12.9"
  }
 },
 "nbformat": 4,
 "nbformat_minor": 4
}